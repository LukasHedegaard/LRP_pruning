{
 "cells": [
  {
   "cell_type": "code",
   "execution_count": 1,
   "id": "51608ecc-0ef2-407d-8f4e-63c39d66ca3c",
   "metadata": {},
   "outputs": [],
   "source": [
    "import torch\n",
    "import numpy as np\n",
    "import matplotlib.pyplot as plt\n",
    "import pandas as pd\n",
    "import plotly.express as px\n",
    "import plotly.graph_objects as go\n",
    "import seaborn as sns\n",
    "import math\n",
    "import re\n",
    "\n",
    "# Colors\n",
    "light_ioite = \"#8462FF\"\n",
    "ioite = \"#6236FF\"\n",
    "dark_ioite = \"#5329E6\"\n",
    "very_dark_ioite = \"#3F21A8\"\n",
    "apatite = \"#32C5FF\"\n",
    "ruby = \"#E02020\"\n",
    "light_ruby = \"#FF6868\"\n",
    "amazonite = \"#44D7B6\"\n",
    "dark_amazonite = \"#339C84\"\n",
    "very_dark_amazonite = \"#0A5544\"\n",
    "amber = \"#FA6400\"\n",
    "dark_amber = \"#CE5300\"\n",
    "very_dark_amber = \"#A74300\"\n",
    "citrine = \"#F7B500\"\n",
    "dark_citrine = \"#BB8900\"\n",
    "saphire = \"#0091FF\"\n",
    "dark_saphire = \"#006FC3\"\n",
    "pink = \"#D40272\"\n",
    "graphite=\"#6D7278\"\n",
    "lightgrey = \"#D8D8D8\"\n",
    "amethyst = \"#B620E0\"\n",
    "light_amethyst = \"#E17BFD\"\n",
    "emerald = \"#6DD400\""
   ]
  },
  {
   "cell_type": "code",
   "execution_count": 2,
   "id": "d90f3f27-db21-4c2c-b576-3a9c3009558c",
   "metadata": {},
   "outputs": [],
   "source": [
    "# Hparams\n",
    "architecture = \"resnet18\"\n",
    "dataset = \"cifar10\"\n",
    "epochs = 20\n",
    "batch_size = 256\n",
    "lr = 0.01\n",
    "momentum = 0.9\n",
    "method_type = \"taylor\"\n",
    "norm = True\n",
    "\n",
    "# Read data\n",
    "df_acc = pd.read_csv(\"raw/test_acc.csv\")\n",
    "df_flops = pd.read_csv(\"raw/test_flops.csv\")\n",
    "df_params = pd.read_csv(\"raw/test_params.csv\")\n",
    "df_ratio = pd.read_csv(\"raw/test_ratio_pruned.csv\")\n",
    "\n",
    "# Clean unused rows\n",
    "df_acc = df_acc[df_acc.columns.drop(list(df_acc.filter(regex='__MIN|__MAX')))]\n",
    "df_flops = df_flops[df_flops.columns.drop(list(df_flops.filter(regex='__MIN|__MAX')))]\n",
    "df_params = df_params[df_params.columns.drop(list(df_params.filter(regex='__MIN|__MAX')))]\n",
    "df_ratio = df_ratio[df_ratio.columns.drop(list(df_ratio.filter(regex='__MIN|__MAX')))]\n",
    "\n",
    "# On inds of test_pruned, we're at a minimum: \n",
    "# Select the index right before for the finetuned metrics right before pruning\n",
    "def select_from_steps(df):\n",
    "    idx = df[df[\"Step\"].isin(df_ratio[\"Step\"])].index - 2\n",
    "    idx = idx.append(pd.Index([df.index[-1]]))\n",
    "    df = df.loc[idx]\n",
    "    df = df.reset_index(drop=True)\n",
    "    return df\n",
    "\n",
    "df_acc = select_from_steps(df_acc)\n",
    "df_flops = select_from_steps(df_flops)\n",
    "df_params = select_from_steps(df_params)\n",
    "\n",
    "# Insert missing first row into df_ratio\n",
    "df_ratio.loc[-1] = [df_flops[\"Step\"][0]] + [1.0 for _ in range(len(df_ratio.columns)-1)]  # adding a row\n",
    "df_ratio.index = df_ratio.index + 1  # shifting index\n",
    "df_ratio = df_ratio.sort_index()  # sorting by index\n",
    "ratio_series = df_ratio.iloc[:,1]"
   ]
  },
  {
   "cell_type": "code",
   "execution_count": 3,
   "id": "f6218bab-cf2f-46b0-bab0-e7ed48d49bb4",
   "metadata": {},
   "outputs": [
    {
     "data": {
      "text/html": [
       "<div>\n",
       "<style scoped>\n",
       "    .dataframe tbody tr th:only-of-type {\n",
       "        vertical-align: middle;\n",
       "    }\n",
       "\n",
       "    .dataframe tbody tr th {\n",
       "        vertical-align: top;\n",
       "    }\n",
       "\n",
       "    .dataframe thead th {\n",
       "        text-align: right;\n",
       "    }\n",
       "</style>\n",
       "<table border=\"1\" class=\"dataframe\">\n",
       "  <thead>\n",
       "    <tr style=\"text-align: right;\">\n",
       "      <th></th>\n",
       "      <th>Ratio</th>\n",
       "      <th>Acc</th>\n",
       "      <th>Rank</th>\n",
       "      <th>Init range</th>\n",
       "      <th>Flops</th>\n",
       "      <th>Params</th>\n",
       "    </tr>\n",
       "  </thead>\n",
       "  <tbody>\n",
       "    <tr>\n",
       "      <th>0</th>\n",
       "      <td>1.00</td>\n",
       "      <td>91.546474</td>\n",
       "      <td>1</td>\n",
       "      <td>0.000001</td>\n",
       "      <td>0.56</td>\n",
       "      <td>23373</td>\n",
       "    </tr>\n",
       "    <tr>\n",
       "      <th>1</th>\n",
       "      <td>0.95</td>\n",
       "      <td>91.646635</td>\n",
       "      <td>1</td>\n",
       "      <td>0.000001</td>\n",
       "      <td>0.54</td>\n",
       "      <td>22963</td>\n",
       "    </tr>\n",
       "    <tr>\n",
       "      <th>2</th>\n",
       "      <td>0.90</td>\n",
       "      <td>91.897035</td>\n",
       "      <td>1</td>\n",
       "      <td>0.000001</td>\n",
       "      <td>0.52</td>\n",
       "      <td>22555</td>\n",
       "    </tr>\n",
       "    <tr>\n",
       "      <th>3</th>\n",
       "      <td>0.85</td>\n",
       "      <td>90.875401</td>\n",
       "      <td>1</td>\n",
       "      <td>0.000001</td>\n",
       "      <td>0.49</td>\n",
       "      <td>22148</td>\n",
       "    </tr>\n",
       "    <tr>\n",
       "      <th>4</th>\n",
       "      <td>0.80</td>\n",
       "      <td>90.184295</td>\n",
       "      <td>1</td>\n",
       "      <td>0.000001</td>\n",
       "      <td>0.47</td>\n",
       "      <td>21732</td>\n",
       "    </tr>\n",
       "    <tr>\n",
       "      <th>...</th>\n",
       "      <td>...</td>\n",
       "      <td>...</td>\n",
       "      <td>...</td>\n",
       "      <td>...</td>\n",
       "      <td>...</td>\n",
       "      <td>...</td>\n",
       "    </tr>\n",
       "    <tr>\n",
       "      <th>655</th>\n",
       "      <td>0.25</td>\n",
       "      <td>89.933894</td>\n",
       "      <td>16</td>\n",
       "      <td>0.010000</td>\n",
       "      <td>0.18</td>\n",
       "      <td>55210</td>\n",
       "    </tr>\n",
       "    <tr>\n",
       "      <th>656</th>\n",
       "      <td>0.20</td>\n",
       "      <td>89.443109</td>\n",
       "      <td>16</td>\n",
       "      <td>0.010000</td>\n",
       "      <td>0.15</td>\n",
       "      <td>48650</td>\n",
       "    </tr>\n",
       "    <tr>\n",
       "      <th>657</th>\n",
       "      <td>0.15</td>\n",
       "      <td>87.790465</td>\n",
       "      <td>16</td>\n",
       "      <td>0.010000</td>\n",
       "      <td>0.11</td>\n",
       "      <td>42042</td>\n",
       "    </tr>\n",
       "    <tr>\n",
       "      <th>658</th>\n",
       "      <td>0.10</td>\n",
       "      <td>86.638622</td>\n",
       "      <td>16</td>\n",
       "      <td>0.010000</td>\n",
       "      <td>0.08</td>\n",
       "      <td>35578</td>\n",
       "    </tr>\n",
       "    <tr>\n",
       "      <th>659</th>\n",
       "      <td>0.05</td>\n",
       "      <td>82.642228</td>\n",
       "      <td>16</td>\n",
       "      <td>0.010000</td>\n",
       "      <td>0.04</td>\n",
       "      <td>28762</td>\n",
       "    </tr>\n",
       "  </tbody>\n",
       "</table>\n",
       "<p>660 rows × 6 columns</p>\n",
       "</div>"
      ],
      "text/plain": [
       "     Ratio        Acc  Rank  Init range  Flops  Params\n",
       "0     1.00  91.546474     1    0.000001   0.56   23373\n",
       "1     0.95  91.646635     1    0.000001   0.54   22963\n",
       "2     0.90  91.897035     1    0.000001   0.52   22555\n",
       "3     0.85  90.875401     1    0.000001   0.49   22148\n",
       "4     0.80  90.184295     1    0.000001   0.47   21732\n",
       "..     ...        ...   ...         ...    ...     ...\n",
       "655   0.25  89.933894    16    0.010000   0.18   55210\n",
       "656   0.20  89.443109    16    0.010000   0.15   48650\n",
       "657   0.15  87.790465    16    0.010000   0.11   42042\n",
       "658   0.10  86.638622    16    0.010000   0.08   35578\n",
       "659   0.05  82.642228    16    0.010000   0.04   28762\n",
       "\n",
       "[660 rows x 6 columns]"
      ]
     },
     "execution_count": 3,
     "metadata": {},
     "output_type": "execute_result"
    }
   ],
   "source": [
    "def merge_col_name(df, metric:str):\n",
    "    # step, rank, init_range, acc\n",
    "    dfs = []\n",
    "    \n",
    "    L = len(df)\n",
    "    \n",
    "    for col in df.columns:\n",
    "        if col != \"Step\":\n",
    "            r = re.search(r\"rank=([\\d]+)_initrange=([-.e\\d]+)\", col)\n",
    "            rank = int(r.group(1))\n",
    "            init_range = float(r.group(2))\n",
    "            \n",
    "            dfs.append(pd.DataFrame(data = {\n",
    "                \"Ratio\": ratio_series,\n",
    "                metric: df[col],\n",
    "                \"Rank\": [rank for _ in range(L)],\n",
    "                \"Init range\": [init_range for _ in range(L)],\n",
    "                \n",
    "            }))\n",
    "    return pd.concat(dfs)\n",
    "\n",
    "df_tot = merge_col_name(df_acc, \"Acc\").merge(merge_col_name(df_flops, \"Flops\")).merge(merge_col_name(df_params, \"Params\"))\n",
    "df_tot[\"Acc\"] = 100*df_tot[\"Acc\"]\n",
    "df_tot"
   ]
  },
  {
   "cell_type": "code",
   "execution_count": 24,
   "id": "1c705c22-33e3-48ea-8963-73609f69e134",
   "metadata": {},
   "outputs": [
    {
     "data": {
      "text/plain": [
       "[Text(0, 0.5, 'CIFAR10 Acc. (%) @0.80')]"
      ]
     },
     "execution_count": 24,
     "metadata": {},
     "output_type": "execute_result"
    },
    {
     "data": {
      "image/png": "[encoded data removed]",
      "text/plain": [
       "<Figure size 600x250 with 1 Axes>"
      ]
     },
     "metadata": {},
     "output_type": "display_data"
    }
   ],
   "source": [
    "ratio=0.8\n",
    "df_sel = df_tot[df_tot[\"Ratio\"]==ratio]\n",
    "sns.set_style({'font.family': 'Latin Modern Roman', \"font_scale\":0.6})\n",
    "sns.set(rc={'figure.figsize':(6,2.5), 'font.family': 'Latin Modern Roman'}, context=\"notebook\", font_scale=0.6)\n",
    "ax = sns.stripplot(data=df_sel, x=\"Rank\", y=\"Acc\", hue=\"Init range\", linewidth=0.2, alpha=0.7, palette=\"magma\", )#palette=[citrine, dark_citrine, amber, dark_amber, very_dark_amber, ])\n",
    "# ax = sns.catplot(data=df_sel, x=\"Rank\", y=\"Acc\", hue=\"Init range\", linewidth=0.2, color=saphire, kind=\"point\", markers=[\"^\", \"o\", \"d\", \"s\"], linestyles=[\"-\", \"--\", \"-.\", \":\"],)\n",
    "# ax = sns.stripplot(data=df_sel, x=\"Rank\", y=\"Acc\",  linewidth=0.2, color=saphire, alpha=0.7)\n",
    "plt.legend(loc='lower right', title='Init range')\n",
    "ax.yaxis.grid(True)\n",
    "ax.set(ylabel=f'CIFAR10 Acc. (%) @{ratio:.2f}')\n",
    "# ax.xaxis.grid(False)# Hide the horizontal gridlines"
   ]
  },
  {
   "cell_type": "code",
   "execution_count": 10,
   "id": "b645c25b-924c-4c0c-8f06-0a940b44cd05",
   "metadata": {},
   "outputs": [
    {
     "data": {
      "text/html": [
       "<div>\n",
       "<style scoped>\n",
       "    .dataframe tbody tr th:only-of-type {\n",
       "        vertical-align: middle;\n",
       "    }\n",
       "\n",
       "    .dataframe tbody tr th {\n",
       "        vertical-align: top;\n",
       "    }\n",
       "\n",
       "    .dataframe thead th {\n",
       "        text-align: right;\n",
       "    }\n",
       "</style>\n",
       "<table border=\"1\" class=\"dataframe\">\n",
       "  <thead>\n",
       "    <tr style=\"text-align: right;\">\n",
       "      <th>Rank</th>\n",
       "      <th>1</th>\n",
       "      <th>2</th>\n",
       "      <th>4</th>\n",
       "      <th>8</th>\n",
       "      <th>16</th>\n",
       "      <th>32</th>\n",
       "      <th>64</th>\n",
       "    </tr>\n",
       "    <tr>\n",
       "      <th>Init range</th>\n",
       "      <th></th>\n",
       "      <th></th>\n",
       "      <th></th>\n",
       "      <th></th>\n",
       "      <th></th>\n",
       "      <th></th>\n",
       "      <th></th>\n",
       "    </tr>\n",
       "  </thead>\n",
       "  <tbody>\n",
       "    <tr>\n",
       "      <th>0.000001</th>\n",
       "      <td>82.553586</td>\n",
       "      <td>85.496294</td>\n",
       "      <td>87.762420</td>\n",
       "      <td>89.419571</td>\n",
       "      <td>90.816306</td>\n",
       "      <td>91.300581</td>\n",
       "      <td>91.632612</td>\n",
       "    </tr>\n",
       "    <tr>\n",
       "      <th>0.000010</th>\n",
       "      <td>82.885116</td>\n",
       "      <td>85.241887</td>\n",
       "      <td>87.539563</td>\n",
       "      <td>89.676482</td>\n",
       "      <td>90.827825</td>\n",
       "      <td>91.313101</td>\n",
       "      <td>91.357672</td>\n",
       "    </tr>\n",
       "    <tr>\n",
       "      <th>0.000100</th>\n",
       "      <td>82.358774</td>\n",
       "      <td>85.316006</td>\n",
       "      <td>87.702825</td>\n",
       "      <td>89.647937</td>\n",
       "      <td>91.111779</td>\n",
       "      <td>91.379708</td>\n",
       "      <td>91.268530</td>\n",
       "    </tr>\n",
       "    <tr>\n",
       "      <th>0.001000</th>\n",
       "      <td>82.125401</td>\n",
       "      <td>85.049579</td>\n",
       "      <td>87.579127</td>\n",
       "      <td>89.662961</td>\n",
       "      <td>90.968049</td>\n",
       "      <td>91.269030</td>\n",
       "      <td>NaN</td>\n",
       "    </tr>\n",
       "    <tr>\n",
       "      <th>0.010000</th>\n",
       "      <td>82.550581</td>\n",
       "      <td>85.487280</td>\n",
       "      <td>87.764423</td>\n",
       "      <td>89.726062</td>\n",
       "      <td>90.906951</td>\n",
       "      <td>91.588542</td>\n",
       "      <td>NaN</td>\n",
       "    </tr>\n",
       "  </tbody>\n",
       "</table>\n",
       "</div>"
      ],
      "text/plain": [
       "Rank               1          2          4          8          16         32  \\\n",
       "Init range                                                                     \n",
       "0.000001    82.553586  85.496294  87.762420  89.419571  90.816306  91.300581   \n",
       "0.000010    82.885116  85.241887  87.539563  89.676482  90.827825  91.313101   \n",
       "0.000100    82.358774  85.316006  87.702825  89.647937  91.111779  91.379708   \n",
       "0.001000    82.125401  85.049579  87.579127  89.662961  90.968049  91.269030   \n",
       "0.010000    82.550581  85.487280  87.764423  89.726062  90.906951  91.588542   \n",
       "\n",
       "Rank               64  \n",
       "Init range             \n",
       "0.000001    91.632612  \n",
       "0.000010    91.357672  \n",
       "0.000100    91.268530  \n",
       "0.001000          NaN  \n",
       "0.010000          NaN  "
      ]
     },
     "execution_count": 10,
     "metadata": {},
     "output_type": "execute_result"
    }
   ],
   "source": [
    "# df_sel = df_tot[df_tot[\"Ratio\"]==ratio]\n",
    "df_sel =df_tot.groupby([\"Init range\", \"Rank\"]).mean()\n",
    "# df_sel.pivot(index = \"Init range\", columns = \"Rank\", values = \"Acc\")\n",
    "df_sel[\"Acc\"].unstack()"
   ]
  },
  {
   "cell_type": "code",
   "execution_count": 11,
   "id": "d5e642ab-4f46-406e-a05a-d63147d4e3fb",
   "metadata": {},
   "outputs": [
    {
     "data": {
      "text/plain": [
       "<AxesSubplot:xlabel='Rank', ylabel='Init range'>"
      ]
     },
     "execution_count": 11,
     "metadata": {},
     "output_type": "execute_result"
    },
    {
     "data": {
      "image/png": "[encoded data removed]",
      "text/plain": [
       "<Figure size 600x250 with 2 Axes>"
      ]
     },
     "metadata": {},
     "output_type": "display_data"
    }
   ],
   "source": [
    "ratio=0.5\n",
    "# df_sel = df_tot[df_tot[\"Ratio\"]==ratio].pivot(index = \"Init range\", columns = \"Rank\", values = \"Acc\")\n",
    "df_sel  = df_tot.groupby([\"Init range\", \"Rank\"]).mean()[\"Acc\"].unstack()\n",
    "sns.heatmap(df_sel,\n",
    "            annot=True, fmt='.4g', \n",
    "            cmap=\"magma\",\n",
    "           )"
   ]
  },
  {
   "cell_type": "code",
   "execution_count": null,
   "id": "ef057fbe-5fee-4cfd-a9fc-571f029a474e",
   "metadata": {},
   "outputs": [
    {
     "data": {
      "application/vnd.plotly.v1+json": {
       "config": {
        "plotlyServerURL": "https://plot.ly"
       },
       "data": [
        {
         "opacity": 0.9,
         "showscale": false,
         "type": "surface",
         "x": [
          1,
          2,
          4,
          8,
          16,
          32,
          64
         ],
         "y": [
          1e-05,
          0.0001,
          0.001,
          0.01
         ],
         "z": [
          [
           91.38621794871796,
           91.37620192307692,
           91.51642628205127,
           91.45633012820512,
           91.60657051282051,
           91.28605769230768,
           91.49639423076924
          ],
          [
           91.67668269230768,
           91.30608974358975,
           91.42628205128204,
           91.46634615384616,
           91.40625,
           91.49639423076924,
           91.38621794871796
          ],
          [
           91.54647435897436,
           91.65665064102564,
           91.33613782051282,
           91.39623397435898,
           91.66666666666666,
           91.18589743589745,
           91.27604166666666
          ],
          [
           91.33613782051282,
           91.35616987179488,
           91.26602564102564,
           91.38621794871796,
           91.39623397435898,
           91.2560096153846,
           91.27604166666666
          ]
         ]
        },
        {
         "opacity": 0.9,
         "showscale": false,
         "type": "surface",
         "x": [
          1,
          2,
          4,
          8,
          16,
          32,
          64
         ],
         "y": [
          1e-05,
          0.0001,
          0.001,
          0.01
         ],
         "z": [
          [
           84.4551282051282,
           87.26963141025641,
           88.73197115384616,
           90.80528846153845,
           91.98717948717949,
           92.04727564102564,
           92.27764423076924
          ],
          [
           84.05448717948718,
           87.09935897435898,
           89.1826923076923,
           90.41466346153845,
           91.86698717948718,
           92.48798076923076,
           92.27764423076924
          ],
          [
           84.43509615384616,
           86.6786858974359,
           89.29286858974359,
           90.89543269230768,
           91.81690705128204,
           92.60817307692308,
           92.4278846153846
          ],
          [
           84.90584935897436,
           86.55849358974359,
           89.32291666666666,
           91.02564102564102,
           91.76682692307692,
           92.12740384615384,
           92.62820512820512
          ]
         ]
        },
        {
         "opacity": 0.9,
         "showscale": false,
         "type": "surface",
         "x": [
          1,
          2,
          4,
          8,
          16,
          32,
          64
         ],
         "y": [
          1e-05,
          0.0001,
          0.001,
          0.01
         ],
         "z": [
          [
           68.21915064102564,
           73.53766025641025,
           80.3485576923077,
           84.67548076923077,
           85.9775641025641,
           88.10096153846155,
           87.84054487179486
          ],
          [
           68.72996794871796,
           74.43910256410257,
           79.39703525641025,
           83.01282051282051,
           86.84895833333334,
           87.72035256410257,
           87.5
          ],
          [
           67.63822115384616,
           74.76963141025641,
           79.48717948717949,
           83.89423076923077,
           87.03926282051282,
           88.28125,
           87.9306891025641
          ],
          [
           69.4110576923077,
           73.67788461538461,
           79.23677884615384,
           83.984375,
           86.41826923076923,
           88.0108173076923,
           88.42147435897436
          ]
         ]
        }
       ],
       "layout": {
        "autosize": true,
        "dragmode": "zoom",
        "scene": {
         "aspectmode": "auto",
         "aspectratio": {
          "x": 1,
          "y": 1,
          "z": 1
         },
         "camera": {
          "center": {
           "x": -0.21116713898729453,
           "y": -0.0975562731184146,
           "z": 0.03658657005233764
          },
          "eye": {
           "x": -1.5843940774542142,
           "y": 1.7025223835169225,
           "z": 1.3954766038202684
          },
          "projection": {
           "type": "perspective"
          },
          "up": {
           "x": 0,
           "y": 0,
           "z": 1
          }
         },
         "dragmode": "turntable"
        },
        "template": {
         "data": {
          "bar": [
           {
            "error_x": {
             "color": "#2a3f5f"
            },
            "error_y": {
             "color": "#2a3f5f"
            },
            "marker": {
             "line": {
              "color": "#E5ECF6",
              "width": 0.5
             },
             "pattern": {
              "fillmode": "overlay",
              "size": 10,
              "solidity": 0.2
             }
            },
            "type": "bar"
           }
          ],
          "barpolar": [
           {
            "marker": {
             "line": {
              "color": "#E5ECF6",
              "width": 0.5
             },
             "pattern": {
              "fillmode": "overlay",
              "size": 10,
              "solidity": 0.2
             }
            },
            "type": "barpolar"
           }
          ],
          "carpet": [
           {
            "aaxis": {
             "endlinecolor": "#2a3f5f",
             "gridcolor": "white",
             "linecolor": "white",
             "minorgridcolor": "white",
             "startlinecolor": "#2a3f5f"
            },
            "baxis": {
             "endlinecolor": "#2a3f5f",
             "gridcolor": "white",
             "linecolor": "white",
             "minorgridcolor": "white",
             "startlinecolor": "#2a3f5f"
            },
            "type": "carpet"
           }
          ],
          "choropleth": [
           {
            "colorbar": {
             "outlinewidth": 0,
             "ticks": ""
            },
            "type": "choropleth"
           }
          ],
          "contour": [
           {
            "colorbar": {
             "outlinewidth": 0,
             "ticks": ""
            },
            "colorscale": [
             [
              0,
              "#0d0887"
             ],
             [
              0.1111111111111111,
              "#46039f"
             ],
             [
              0.2222222222222222,
              "#7201a8"
             ],
             [
              0.3333333333333333,
              "#9c179e"
             ],
             [
              0.4444444444444444,
              "#bd3786"
             ],
             [
              0.5555555555555556,
              "#d8576b"
             ],
             [
              0.6666666666666666,
              "#ed7953"
             ],
             [
              0.7777777777777778,
              "#fb9f3a"
             ],
             [
              0.8888888888888888,
              "#fdca26"
             ],
             [
              1,
              "#f0f921"
             ]
            ],
            "type": "contour"
           }
          ],
          "contourcarpet": [
           {
            "colorbar": {
             "outlinewidth": 0,
             "ticks": ""
            },
            "type": "contourcarpet"
           }
          ],
          "heatmap": [
           {
            "colorbar": {
             "outlinewidth": 0,
             "ticks": ""
            },
            "colorscale": [
             [
              0,
              "#0d0887"
             ],
             [
              0.1111111111111111,
              "#46039f"
             ],
             [
              0.2222222222222222,
              "#7201a8"
             ],
             [
              0.3333333333333333,
              "#9c179e"
             ],
             [
              0.4444444444444444,
              "#bd3786"
             ],
             [
              0.5555555555555556,
              "#d8576b"
             ],
             [
              0.6666666666666666,
              "#ed7953"
             ],
             [
              0.7777777777777778,
              "#fb9f3a"
             ],
             [
              0.8888888888888888,
              "#fdca26"
             ],
             [
              1,
              "#f0f921"
             ]
            ],
            "type": "heatmap"
           }
          ],
          "heatmapgl": [
           {
            "colorbar": {
             "outlinewidth": 0,
             "ticks": ""
            },
            "colorscale": [
             [
              0,
              "#0d0887"
             ],
             [
              0.1111111111111111,
              "#46039f"
             ],
             [
              0.2222222222222222,
              "#7201a8"
             ],
             [
              0.3333333333333333,
              "#9c179e"
             ],
             [
              0.4444444444444444,
              "#bd3786"
             ],
             [
              0.5555555555555556,
              "#d8576b"
             ],
             [
              0.6666666666666666,
              "#ed7953"
             ],
             [
              0.7777777777777778,
              "#fb9f3a"
             ],
             [
              0.8888888888888888,
              "#fdca26"
             ],
             [
              1,
              "#f0f921"
             ]
            ],
            "type": "heatmapgl"
           }
          ],
          "histogram": [
           {
            "marker": {
             "pattern": {
              "fillmode": "overlay",
              "size": 10,
              "solidity": 0.2
             }
            },
            "type": "histogram"
           }
          ],
          "histogram2d": [
           {
            "colorbar": {
             "outlinewidth": 0,
             "ticks": ""
            },
            "colorscale": [
             [
              0,
              "#0d0887"
             ],
             [
              0.1111111111111111,
              "#46039f"
             ],
             [
              0.2222222222222222,
              "#7201a8"
             ],
             [
              0.3333333333333333,
              "#9c179e"
             ],
             [
              0.4444444444444444,
              "#bd3786"
             ],
             [
              0.5555555555555556,
              "#d8576b"
             ],
             [
              0.6666666666666666,
              "#ed7953"
             ],
             [
              0.7777777777777778,
              "#fb9f3a"
             ],
             [
              0.8888888888888888,
              "#fdca26"
             ],
             [
              1,
              "#f0f921"
             ]
            ],
            "type": "histogram2d"
           }
          ],
          "histogram2dcontour": [
           {
            "colorbar": {
             "outlinewidth": 0,
             "ticks": ""
            },
            "colorscale": [
             [
              0,
              "#0d0887"
             ],
             [
              0.1111111111111111,
              "#46039f"
             ],
             [
              0.2222222222222222,
              "#7201a8"
             ],
             [
              0.3333333333333333,
              "#9c179e"
             ],
             [
              0.4444444444444444,
              "#bd3786"
             ],
             [
              0.5555555555555556,
              "#d8576b"
             ],
             [
              0.6666666666666666,
              "#ed7953"
             ],
             [
              0.7777777777777778,
              "#fb9f3a"
             ],
             [
              0.8888888888888888,
              "#fdca26"
             ],
             [
              1,
              "#f0f921"
             ]
            ],
            "type": "histogram2dcontour"
           }
          ],
          "mesh3d": [
           {
            "colorbar": {
             "outlinewidth": 0,
             "ticks": ""
            },
            "type": "mesh3d"
           }
          ],
          "parcoords": [
           {
            "line": {
             "colorbar": {
              "outlinewidth": 0,
              "ticks": ""
             }
            },
            "type": "parcoords"
           }
          ],
          "pie": [
           {
            "automargin": true,
            "type": "pie"
           }
          ],
          "scatter": [
           {
            "fillpattern": {
             "fillmode": "overlay",
             "size": 10,
             "solidity": 0.2
            },
            "type": "scatter"
           }
          ],
          "scatter3d": [
           {
            "line": {
             "colorbar": {
              "outlinewidth": 0,
              "ticks": ""
             }
            },
            "marker": {
             "colorbar": {
              "outlinewidth": 0,
              "ticks": ""
             }
            },
            "type": "scatter3d"
           }
          ],
          "scattercarpet": [
           {
            "marker": {
             "colorbar": {
              "outlinewidth": 0,
              "ticks": ""
             }
            },
            "type": "scattercarpet"
           }
          ],
          "scattergeo": [
           {
            "marker": {
             "colorbar": {
              "outlinewidth": 0,
              "ticks": ""
             }
            },
            "type": "scattergeo"
           }
          ],
          "scattergl": [
           {
            "marker": {
             "colorbar": {
              "outlinewidth": 0,
              "ticks": ""
             }
            },
            "type": "scattergl"
           }
          ],
          "scattermapbox": [
           {
            "marker": {
             "colorbar": {
              "outlinewidth": 0,
              "ticks": ""
             }
            },
            "type": "scattermapbox"
           }
          ],
          "scatterpolar": [
           {
            "marker": {
             "colorbar": {
              "outlinewidth": 0,
              "ticks": ""
             }
            },
            "type": "scatterpolar"
           }
          ],
          "scatterpolargl": [
           {
            "marker": {
             "colorbar": {
              "outlinewidth": 0,
              "ticks": ""
             }
            },
            "type": "scatterpolargl"
           }
          ],
          "scatterternary": [
           {
            "marker": {
             "colorbar": {
              "outlinewidth": 0,
              "ticks": ""
             }
            },
            "type": "scatterternary"
           }
          ],
          "surface": [
           {
            "colorbar": {
             "outlinewidth": 0,
             "ticks": ""
            },
            "colorscale": [
             [
              0,
              "#0d0887"
             ],
             [
              0.1111111111111111,
              "#46039f"
             ],
             [
              0.2222222222222222,
              "#7201a8"
             ],
             [
              0.3333333333333333,
              "#9c179e"
             ],
             [
              0.4444444444444444,
              "#bd3786"
             ],
             [
              0.5555555555555556,
              "#d8576b"
             ],
             [
              0.6666666666666666,
              "#ed7953"
             ],
             [
              0.7777777777777778,
              "#fb9f3a"
             ],
             [
              0.8888888888888888,
              "#fdca26"
             ],
             [
              1,
              "#f0f921"
             ]
            ],
            "type": "surface"
           }
          ],
          "table": [
           {
            "cells": {
             "fill": {
              "color": "#EBF0F8"
             },
             "line": {
              "color": "white"
             }
            },
            "header": {
             "fill": {
              "color": "#C8D4E3"
             },
             "line": {
              "color": "white"
             }
            },
            "type": "table"
           }
          ]
         },
         "layout": {
          "annotationdefaults": {
           "arrowcolor": "#2a3f5f",
           "arrowhead": 0,
           "arrowwidth": 1
          },
          "autotypenumbers": "strict",
          "coloraxis": {
           "colorbar": {
            "outlinewidth": 0,
            "ticks": ""
           }
          },
          "colorscale": {
           "diverging": [
            [
             0,
             "#8e0152"
            ],
            [
             0.1,
             "#c51b7d"
            ],
            [
             0.2,
             "#de77ae"
            ],
            [
             0.3,
             "#f1b6da"
            ],
            [
             0.4,
             "#fde0ef"
            ],
            [
             0.5,
             "#f7f7f7"
            ],
            [
             0.6,
             "#e6f5d0"
            ],
            [
             0.7,
             "#b8e186"
            ],
            [
             0.8,
             "#7fbc41"
            ],
            [
             0.9,
             "#4d9221"
            ],
            [
             1,
             "#276419"
            ]
           ],
           "sequential": [
            [
             0,
             "#0d0887"
            ],
            [
             0.1111111111111111,
             "#46039f"
            ],
            [
             0.2222222222222222,
             "#7201a8"
            ],
            [
             0.3333333333333333,
             "#9c179e"
            ],
            [
             0.4444444444444444,
             "#bd3786"
            ],
            [
             0.5555555555555556,
             "#d8576b"
            ],
            [
             0.6666666666666666,
             "#ed7953"
            ],
            [
             0.7777777777777778,
             "#fb9f3a"
            ],
            [
             0.8888888888888888,
             "#fdca26"
            ],
            [
             1,
             "#f0f921"
            ]
           ],
           "sequentialminus": [
            [
             0,
             "#0d0887"
            ],
            [
             0.1111111111111111,
             "#46039f"
            ],
            [
             0.2222222222222222,
             "#7201a8"
            ],
            [
             0.3333333333333333,
             "#9c179e"
            ],
            [
             0.4444444444444444,
             "#bd3786"
            ],
            [
             0.5555555555555556,
             "#d8576b"
            ],
            [
             0.6666666666666666,
             "#ed7953"
            ],
            [
             0.7777777777777778,
             "#fb9f3a"
            ],
            [
             0.8888888888888888,
             "#fdca26"
            ],
            [
             1,
             "#f0f921"
            ]
           ]
          },
          "colorway": [
           "#636efa",
           "#EF553B",
           "#00cc96",
           "#ab63fa",
           "#FFA15A",
           "#19d3f3",
           "#FF6692",
           "#B6E880",
           "#FF97FF",
           "#FECB52"
          ],
          "font": {
           "color": "#2a3f5f"
          },
          "geo": {
           "bgcolor": "white",
           "lakecolor": "white",
           "landcolor": "#E5ECF6",
           "showlakes": true,
           "showland": true,
           "subunitcolor": "white"
          },
          "hoverlabel": {
           "align": "left"
          },
          "hovermode": "closest",
          "mapbox": {
           "style": "light"
          },
          "paper_bgcolor": "white",
          "plot_bgcolor": "#E5ECF6",
          "polar": {
           "angularaxis": {
            "gridcolor": "white",
            "linecolor": "white",
            "ticks": ""
           },
           "bgcolor": "#E5ECF6",
           "radialaxis": {
            "gridcolor": "white",
            "linecolor": "white",
            "ticks": ""
           }
          },
          "scene": {
           "xaxis": {
            "backgroundcolor": "#E5ECF6",
            "gridcolor": "white",
            "gridwidth": 2,
            "linecolor": "white",
            "showbackground": true,
            "ticks": "",
            "zerolinecolor": "white"
           },
           "yaxis": {
            "backgroundcolor": "#E5ECF6",
            "gridcolor": "white",
            "gridwidth": 2,
            "linecolor": "white",
            "showbackground": true,
            "ticks": "",
            "zerolinecolor": "white"
           },
           "zaxis": {
            "backgroundcolor": "#E5ECF6",
            "gridcolor": "white",
            "gridwidth": 2,
            "linecolor": "white",
            "showbackground": true,
            "ticks": "",
            "zerolinecolor": "white"
           }
          },
          "shapedefaults": {
           "line": {
            "color": "#2a3f5f"
           }
          },
          "ternary": {
           "aaxis": {
            "gridcolor": "white",
            "linecolor": "white",
            "ticks": ""
           },
           "baxis": {
            "gridcolor": "white",
            "linecolor": "white",
            "ticks": ""
           },
           "bgcolor": "#E5ECF6",
           "caxis": {
            "gridcolor": "white",
            "linecolor": "white",
            "ticks": ""
           }
          },
          "title": {
           "x": 0.05
          },
          "xaxis": {
           "automargin": true,
           "gridcolor": "white",
           "linecolor": "white",
           "ticks": "",
           "title": {
            "standoff": 15
           },
           "zerolinecolor": "white",
           "zerolinewidth": 2
          },
          "yaxis": {
           "automargin": true,
           "gridcolor": "white",
           "linecolor": "white",
           "ticks": "",
           "title": {
            "standoff": 15
           },
           "zerolinecolor": "white",
           "zerolinewidth": 2
          }
         }
        }
       }
      },
      "image/png": "[encoded data removed]",
      "text/html": [
       "<div>                            <div id=\"ddb1838a-27fb-4936-84eb-103207bb20da\" class=\"plotly-graph-div\" style=\"height:525px; width:100%;\"></div>            <script type=\"text/javascript\">                require([\"plotly\"], function(Plotly) {                    window.PLOTLYENV=window.PLOTLYENV || {};                                    if (document.getElementById(\"ddb1838a-27fb-4936-84eb-103207bb20da\")) {                    Plotly.newPlot(                        \"ddb1838a-27fb-4936-84eb-103207bb20da\",                        [{\"opacity\":0.9,\"showscale\":false,\"x\":[1,2,4,8,16,32,64],\"y\":[1e-05,0.0001,0.001,0.01],\"z\":[[91.38621794871796,91.37620192307692,91.51642628205127,91.45633012820512,91.60657051282051,91.28605769230768,91.49639423076924],[91.67668269230768,91.30608974358975,91.42628205128204,91.46634615384616,91.40625,91.49639423076924,91.38621794871796],[91.54647435897436,91.65665064102564,91.33613782051282,91.39623397435898,91.66666666666666,91.18589743589745,91.27604166666666],[91.33613782051282,91.35616987179488,91.26602564102564,91.38621794871796,91.39623397435898,91.2560096153846,91.27604166666666]],\"type\":\"surface\"},{\"opacity\":0.9,\"showscale\":false,\"x\":[1,2,4,8,16,32,64],\"y\":[1e-05,0.0001,0.001,0.01],\"z\":[[84.4551282051282,87.26963141025641,88.73197115384616,90.80528846153845,91.98717948717949,92.04727564102564,92.27764423076924],[84.05448717948718,87.09935897435898,89.1826923076923,90.41466346153845,91.86698717948718,92.48798076923076,92.27764423076924],[84.43509615384616,86.6786858974359,89.29286858974359,90.89543269230768,91.81690705128204,92.60817307692308,92.4278846153846],[84.90584935897436,86.55849358974359,89.32291666666666,91.02564102564102,91.76682692307692,92.12740384615384,92.62820512820512]],\"type\":\"surface\"},{\"opacity\":0.9,\"showscale\":false,\"x\":[1,2,4,8,16,32,64],\"y\":[1e-05,0.0001,0.001,0.01],\"z\":[[68.21915064102564,73.53766025641025,80.3485576923077,84.67548076923077,85.9775641025641,88.10096153846155,87.84054487179486],[68.72996794871796,74.43910256410257,79.39703525641025,83.01282051282051,86.84895833333334,87.72035256410257,87.5],[67.63822115384616,74.76963141025641,79.48717948717949,83.89423076923077,87.03926282051282,88.28125,87.9306891025641],[69.4110576923077,73.67788461538461,79.23677884615384,83.984375,86.41826923076923,88.0108173076923,88.42147435897436]],\"type\":\"surface\"}],                        {\"template\":{\"data\":{\"histogram2dcontour\":[{\"type\":\"histogram2dcontour\",\"colorbar\":{\"outlinewidth\":0,\"ticks\":\"\"},\"colorscale\":[[0.0,\"#0d0887\"],[0.1111111111111111,\"#46039f\"],[0.2222222222222222,\"#7201a8\"],[0.3333333333333333,\"#9c179e\"],[0.4444444444444444,\"#bd3786\"],[0.5555555555555556,\"#d8576b\"],[0.6666666666666666,\"#ed7953\"],[0.7777777777777778,\"#fb9f3a\"],[0.8888888888888888,\"#fdca26\"],[1.0,\"#f0f921\"]]}],\"choropleth\":[{\"type\":\"choropleth\",\"colorbar\":{\"outlinewidth\":0,\"ticks\":\"\"}}],\"histogram2d\":[{\"type\":\"histogram2d\",\"colorbar\":{\"outlinewidth\":0,\"ticks\":\"\"},\"colorscale\":[[0.0,\"#0d0887\"],[0.1111111111111111,\"#46039f\"],[0.2222222222222222,\"#7201a8\"],[0.3333333333333333,\"#9c179e\"],[0.4444444444444444,\"#bd3786\"],[0.5555555555555556,\"#d8576b\"],[0.6666666666666666,\"#ed7953\"],[0.7777777777777778,\"#fb9f3a\"],[0.8888888888888888,\"#fdca26\"],[1.0,\"#f0f921\"]]}],\"heatmap\":[{\"type\":\"heatmap\",\"colorbar\":{\"outlinewidth\":0,\"ticks\":\"\"},\"colorscale\":[[0.0,\"#0d0887\"],[0.1111111111111111,\"#46039f\"],[0.2222222222222222,\"#7201a8\"],[0.3333333333333333,\"#9c179e\"],[0.4444444444444444,\"#bd3786\"],[0.5555555555555556,\"#d8576b\"],[0.6666666666666666,\"#ed7953\"],[0.7777777777777778,\"#fb9f3a\"],[0.8888888888888888,\"#fdca26\"],[1.0,\"#f0f921\"]]}],\"heatmapgl\":[{\"type\":\"heatmapgl\",\"colorbar\":{\"outlinewidth\":0,\"ticks\":\"\"},\"colorscale\":[[0.0,\"#0d0887\"],[0.1111111111111111,\"#46039f\"],[0.2222222222222222,\"#7201a8\"],[0.3333333333333333,\"#9c179e\"],[0.4444444444444444,\"#bd3786\"],[0.5555555555555556,\"#d8576b\"],[0.6666666666666666,\"#ed7953\"],[0.7777777777777778,\"#fb9f3a\"],[0.8888888888888888,\"#fdca26\"],[1.0,\"#f0f921\"]]}],\"contourcarpet\":[{\"type\":\"contourcarpet\",\"colorbar\":{\"outlinewidth\":0,\"ticks\":\"\"}}],\"contour\":[{\"type\":\"contour\",\"colorbar\":{\"outlinewidth\":0,\"ticks\":\"\"},\"colorscale\":[[0.0,\"#0d0887\"],[0.1111111111111111,\"#46039f\"],[0.2222222222222222,\"#7201a8\"],[0.3333333333333333,\"#9c179e\"],[0.4444444444444444,\"#bd3786\"],[0.5555555555555556,\"#d8576b\"],[0.6666666666666666,\"#ed7953\"],[0.7777777777777778,\"#fb9f3a\"],[0.8888888888888888,\"#fdca26\"],[1.0,\"#f0f921\"]]}],\"surface\":[{\"type\":\"surface\",\"colorbar\":{\"outlinewidth\":0,\"ticks\":\"\"},\"colorscale\":[[0.0,\"#0d0887\"],[0.1111111111111111,\"#46039f\"],[0.2222222222222222,\"#7201a8\"],[0.3333333333333333,\"#9c179e\"],[0.4444444444444444,\"#bd3786\"],[0.5555555555555556,\"#d8576b\"],[0.6666666666666666,\"#ed7953\"],[0.7777777777777778,\"#fb9f3a\"],[0.8888888888888888,\"#fdca26\"],[1.0,\"#f0f921\"]]}],\"mesh3d\":[{\"type\":\"mesh3d\",\"colorbar\":{\"outlinewidth\":0,\"ticks\":\"\"}}],\"scatter\":[{\"fillpattern\":{\"fillmode\":\"overlay\",\"size\":10,\"solidity\":0.2},\"type\":\"scatter\"}],\"parcoords\":[{\"type\":\"parcoords\",\"line\":{\"colorbar\":{\"outlinewidth\":0,\"ticks\":\"\"}}}],\"scatterpolargl\":[{\"type\":\"scatterpolargl\",\"marker\":{\"colorbar\":{\"outlinewidth\":0,\"ticks\":\"\"}}}],\"bar\":[{\"error_x\":{\"color\":\"#2a3f5f\"},\"error_y\":{\"color\":\"#2a3f5f\"},\"marker\":{\"line\":{\"color\":\"#E5ECF6\",\"width\":0.5},\"pattern\":{\"fillmode\":\"overlay\",\"size\":10,\"solidity\":0.2}},\"type\":\"bar\"}],\"scattergeo\":[{\"type\":\"scattergeo\",\"marker\":{\"colorbar\":{\"outlinewidth\":0,\"ticks\":\"\"}}}],\"scatterpolar\":[{\"type\":\"scatterpolar\",\"marker\":{\"colorbar\":{\"outlinewidth\":0,\"ticks\":\"\"}}}],\"histogram\":[{\"marker\":{\"pattern\":{\"fillmode\":\"overlay\",\"size\":10,\"solidity\":0.2}},\"type\":\"histogram\"}],\"scattergl\":[{\"type\":\"scattergl\",\"marker\":{\"colorbar\":{\"outlinewidth\":0,\"ticks\":\"\"}}}],\"scatter3d\":[{\"type\":\"scatter3d\",\"line\":{\"colorbar\":{\"outlinewidth\":0,\"ticks\":\"\"}},\"marker\":{\"colorbar\":{\"outlinewidth\":0,\"ticks\":\"\"}}}],\"scattermapbox\":[{\"type\":\"scattermapbox\",\"marker\":{\"colorbar\":{\"outlinewidth\":0,\"ticks\":\"\"}}}],\"scatterternary\":[{\"type\":\"scatterternary\",\"marker\":{\"colorbar\":{\"outlinewidth\":0,\"ticks\":\"\"}}}],\"scattercarpet\":[{\"type\":\"scattercarpet\",\"marker\":{\"colorbar\":{\"outlinewidth\":0,\"ticks\":\"\"}}}],\"carpet\":[{\"aaxis\":{\"endlinecolor\":\"#2a3f5f\",\"gridcolor\":\"white\",\"linecolor\":\"white\",\"minorgridcolor\":\"white\",\"startlinecolor\":\"#2a3f5f\"},\"baxis\":{\"endlinecolor\":\"#2a3f5f\",\"gridcolor\":\"white\",\"linecolor\":\"white\",\"minorgridcolor\":\"white\",\"startlinecolor\":\"#2a3f5f\"},\"type\":\"carpet\"}],\"table\":[{\"cells\":{\"fill\":{\"color\":\"#EBF0F8\"},\"line\":{\"color\":\"white\"}},\"header\":{\"fill\":{\"color\":\"#C8D4E3\"},\"line\":{\"color\":\"white\"}},\"type\":\"table\"}],\"barpolar\":[{\"marker\":{\"line\":{\"color\":\"#E5ECF6\",\"width\":0.5},\"pattern\":{\"fillmode\":\"overlay\",\"size\":10,\"solidity\":0.2}},\"type\":\"barpolar\"}],\"pie\":[{\"automargin\":true,\"type\":\"pie\"}]},\"layout\":{\"autotypenumbers\":\"strict\",\"colorway\":[\"#636efa\",\"#EF553B\",\"#00cc96\",\"#ab63fa\",\"#FFA15A\",\"#19d3f3\",\"#FF6692\",\"#B6E880\",\"#FF97FF\",\"#FECB52\"],\"font\":{\"color\":\"#2a3f5f\"},\"hovermode\":\"closest\",\"hoverlabel\":{\"align\":\"left\"},\"paper_bgcolor\":\"white\",\"plot_bgcolor\":\"#E5ECF6\",\"polar\":{\"bgcolor\":\"#E5ECF6\",\"angularaxis\":{\"gridcolor\":\"white\",\"linecolor\":\"white\",\"ticks\":\"\"},\"radialaxis\":{\"gridcolor\":\"white\",\"linecolor\":\"white\",\"ticks\":\"\"}},\"ternary\":{\"bgcolor\":\"#E5ECF6\",\"aaxis\":{\"gridcolor\":\"white\",\"linecolor\":\"white\",\"ticks\":\"\"},\"baxis\":{\"gridcolor\":\"white\",\"linecolor\":\"white\",\"ticks\":\"\"},\"caxis\":{\"gridcolor\":\"white\",\"linecolor\":\"white\",\"ticks\":\"\"}},\"coloraxis\":{\"colorbar\":{\"outlinewidth\":0,\"ticks\":\"\"}},\"colorscale\":{\"sequential\":[[0.0,\"#0d0887\"],[0.1111111111111111,\"#46039f\"],[0.2222222222222222,\"#7201a8\"],[0.3333333333333333,\"#9c179e\"],[0.4444444444444444,\"#bd3786\"],[0.5555555555555556,\"#d8576b\"],[0.6666666666666666,\"#ed7953\"],[0.7777777777777778,\"#fb9f3a\"],[0.8888888888888888,\"#fdca26\"],[1.0,\"#f0f921\"]],\"sequentialminus\":[[0.0,\"#0d0887\"],[0.1111111111111111,\"#46039f\"],[0.2222222222222222,\"#7201a8\"],[0.3333333333333333,\"#9c179e\"],[0.4444444444444444,\"#bd3786\"],[0.5555555555555556,\"#d8576b\"],[0.6666666666666666,\"#ed7953\"],[0.7777777777777778,\"#fb9f3a\"],[0.8888888888888888,\"#fdca26\"],[1.0,\"#f0f921\"]],\"diverging\":[[0,\"#8e0152\"],[0.1,\"#c51b7d\"],[0.2,\"#de77ae\"],[0.3,\"#f1b6da\"],[0.4,\"#fde0ef\"],[0.5,\"#f7f7f7\"],[0.6,\"#e6f5d0\"],[0.7,\"#b8e186\"],[0.8,\"#7fbc41\"],[0.9,\"#4d9221\"],[1,\"#276419\"]]},\"xaxis\":{\"gridcolor\":\"white\",\"linecolor\":\"white\",\"ticks\":\"\",\"title\":{\"standoff\":15},\"zerolinecolor\":\"white\",\"automargin\":true,\"zerolinewidth\":2},\"yaxis\":{\"gridcolor\":\"white\",\"linecolor\":\"white\",\"ticks\":\"\",\"title\":{\"standoff\":15},\"zerolinecolor\":\"white\",\"automargin\":true,\"zerolinewidth\":2},\"scene\":{\"xaxis\":{\"backgroundcolor\":\"#E5ECF6\",\"gridcolor\":\"white\",\"linecolor\":\"white\",\"showbackground\":true,\"ticks\":\"\",\"zerolinecolor\":\"white\",\"gridwidth\":2},\"yaxis\":{\"backgroundcolor\":\"#E5ECF6\",\"gridcolor\":\"white\",\"linecolor\":\"white\",\"showbackground\":true,\"ticks\":\"\",\"zerolinecolor\":\"white\",\"gridwidth\":2},\"zaxis\":{\"backgroundcolor\":\"#E5ECF6\",\"gridcolor\":\"white\",\"linecolor\":\"white\",\"showbackground\":true,\"ticks\":\"\",\"zerolinecolor\":\"white\",\"gridwidth\":2}},\"shapedefaults\":{\"line\":{\"color\":\"#2a3f5f\"}},\"annotationdefaults\":{\"arrowcolor\":\"#2a3f5f\",\"arrowhead\":0,\"arrowwidth\":1},\"geo\":{\"bgcolor\":\"white\",\"landcolor\":\"#E5ECF6\",\"subunitcolor\":\"white\",\"showland\":true,\"showlakes\":true,\"lakecolor\":\"white\"},\"title\":{\"x\":0.05},\"mapbox\":{\"style\":\"light\"}}}},                        {\"responsive\": true}                    ).then(function(){\n",
       "                            \n",
       "var gd = document.getElementById('ddb1838a-27fb-4936-84eb-103207bb20da');\n",
       "var x = new MutationObserver(function (mutations, observer) {{\n",
       "        var display = window.getComputedStyle(gd).display;\n",
       "        if (!display || display === 'none') {{\n",
       "            console.log([gd, 'removed!']);\n",
       "            Plotly.purge(gd);\n",
       "            observer.disconnect();\n",
       "        }}\n",
       "}});\n",
       "\n",
       "// Listen for the removal of the full notebook cells\n",
       "var notebookContainer = gd.closest('#notebook-container');\n",
       "if (notebookContainer) {{\n",
       "    x.observe(notebookContainer, {childList: true});\n",
       "}}\n",
       "\n",
       "// Listen for the clearing of the current output cell\n",
       "var outputEl = gd.closest('.output');\n",
       "if (outputEl) {{\n",
       "    x.observe(outputEl, {childList: true});\n",
       "}}\n",
       "\n",
       "                        })                };                });            </script>        </div>"
      ]
     },
     "metadata": {},
     "output_type": "display_data"
    }
   ],
   "source": [
    "fig = go.Figure(\n",
    "    data=[\n",
    "        go.Surface(\n",
    "            z=df_tot[df_tot[\"Ratio\"]==ratio].pivot(index = \"Init range\", columns = \"Rank\", values = \"Acc\").to_numpy(), \n",
    "            x=sorted(df_tot[df_tot[\"Ratio\"]==ratio][\"Rank\"].unique()),\n",
    "            y=sorted(df_tot[df_tot[\"Ratio\"]==ratio][\"Init range\"].unique()),\n",
    "            showscale=False, opacity=0.9\n",
    "        )\n",
    "        for ratio in [1.0, 0.5, 0.1]\n",
    "    ],\n",
    ")\n",
    "\n",
    "fig.show()"
   ]
  },
  {
   "cell_type": "code",
   "execution_count": null,
   "id": "87a38253-51ec-4d7f-bdac-4e21c66ce278",
   "metadata": {},
   "outputs": [],
   "source": []
  }
 ],
 "metadata": {
  "kernelspec": {
   "display_name": "Python 3 (ipykernel)",
   "language": "python",
   "name": "python3"
  },
  "language_info": {
   "codemirror_mode": {
    "name": "ipython",
    "version": 3
   },
   "file_extension": ".py",
   "mimetype": "text/x-python",
   "name": "python",
   "nbconvert_exporter": "python",
   "pygments_lexer": "ipython3",
   "version": "3.8.13"
  }
 },
 "nbformat": 4,
 "nbformat_minor": 5
}
